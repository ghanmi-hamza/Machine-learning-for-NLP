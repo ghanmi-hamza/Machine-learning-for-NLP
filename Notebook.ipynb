{
  "nbformat": 4,
  "nbformat_minor": 0,
  "metadata": {
    "colab": {
      "name": "Zindi.ipynb",
      "provenance": [],
      "collapsed_sections": [],
      "toc_visible": true
    },
    "kernelspec": {
      "name": "python3",
      "display_name": "Python 3"
    }
  },
  "cells": [
    {
      "cell_type": "code",
      "metadata": {
        "id": "9zQRZZLvPmto",
        "colab_type": "code",
        "colab": {
          "base_uri": "https://localhost:8080/",
          "height": 119
        },
        "outputId": "5f5b0752-5dfd-42eb-fcc9-6f694e898384"
      },
      "source": [
        "import pandas as pd\n",
        "import numpy as np\n",
        "import matplotlib.pyplot as plt\n",
        "%matplotlib inline\n",
        "import os\n",
        "import random\n",
        "from sklearn.feature_extraction.text import CountVectorizer,TfidfVectorizer\n",
        "from sklearn.naive_bayes import MultinomialNB,CategoricalNB\n",
        "import nltk\n",
        "nltk.download('stopwords')\n",
        "nltk.download('punkt')\n",
        "import re\n",
        "from nltk.corpus import stopwords\n",
        "import string\n",
        "from sklearn import preprocessing\n",
        "from sklearn.neural_network import MLPClassifier\n",
        "from sklearn.preprocessing import StandardScaler\n",
        "from sklearn.manifold import TSNE\n",
        "import seaborn as sns\n",
        "from nltk.stem import SnowballStemmer as sno\n",
        "from nltk.stem.porter import PorterStemmer\n",
        "from sklearn.metrics import log_loss\n",
        "from sklearn.linear_model import LogisticRegression,SGDClassifier\n",
        "from sklearn import svm\n",
        "from sklearn.tree import DecisionTreeClassifier\n",
        "from sklearn.model_selection import cross_val_score,cross_validate,GridSearchCV,train_test_split\n",
        "from sklearn.ensemble import RandomForestClassifier,AdaBoostClassifier,VotingClassifier\n",
        "from xgboost import XGBClassifier\n",
        "from sklearn.neighbors import KNeighborsClassifier\n",
        "from sklearn.multiclass import OneVsRestClassifier\n",
        "from sklearn.decomposition import TruncatedSVD"
      ],
      "execution_count": null,
      "outputs": [
        {
          "output_type": "stream",
          "text": [
            "[nltk_data] Downloading package stopwords to /root/nltk_data...\n",
            "[nltk_data]   Unzipping corpora/stopwords.zip.\n",
            "[nltk_data] Downloading package punkt to /root/nltk_data...\n",
            "[nltk_data]   Unzipping tokenizers/punkt.zip.\n"
          ],
          "name": "stdout"
        },
        {
          "output_type": "stream",
          "text": [
            "/usr/local/lib/python3.6/dist-packages/statsmodels/tools/_testing.py:19: FutureWarning: pandas.util.testing is deprecated. Use the functions in the public API at pandas.testing instead.\n",
            "  import pandas.util.testing as tm\n"
          ],
          "name": "stderr"
        }
      ]
    },
    {
      "cell_type": "code",
      "metadata": {
        "id": "oPIttOhmsbvE",
        "colab_type": "code",
        "colab": {}
      },
      "source": [
        "train=pd.read_csv('Train.csv')\n",
        "test=pd.read_csv('Test.csv')"
      ],
      "execution_count": null,
      "outputs": []
    },
    {
      "cell_type": "code",
      "metadata": {
        "id": "N4bvsL5toILa",
        "colab_type": "code",
        "colab": {
          "base_uri": "https://localhost:8080/",
          "height": 34
        },
        "outputId": "234b9124-6cec-4801-a567-e7bff04cd2fb"
      },
      "source": [
        "train.shape"
      ],
      "execution_count": null,
      "outputs": [
        {
          "output_type": "execute_result",
          "data": {
            "text/plain": [
              "(616, 3)"
            ]
          },
          "metadata": {
            "tags": []
          },
          "execution_count": 4
        }
      ]
    },
    {
      "cell_type": "code",
      "metadata": {
        "id": "18kJCt3vpLFV",
        "colab_type": "code",
        "colab": {
          "base_uri": "https://localhost:8080/",
          "height": 34
        },
        "outputId": "44caa421-fbda-47f7-89b1-2a2ef9881409"
      },
      "source": [
        "test.shape"
      ],
      "execution_count": null,
      "outputs": [
        {
          "output_type": "execute_result",
          "data": {
            "text/plain": [
              "(309, 2)"
            ]
          },
          "metadata": {
            "tags": []
          },
          "execution_count": 5
        }
      ]
    },
    {
      "cell_type": "code",
      "metadata": {
        "id": "gucUhopvsb-R",
        "colab_type": "code",
        "colab": {
          "base_uri": "https://localhost:8080/",
          "height": 272
        },
        "outputId": "89894c34-53e3-434d-a983-29f7bcb4429a"
      },
      "source": [
        "print('Train shape:',train.shape,'and number of null values are:',train.isnull().sum())\n",
        "train.head()"
      ],
      "execution_count": null,
      "outputs": [
        {
          "output_type": "stream",
          "text": [
            "Train shape: (616, 3) and number of null values are: ID       0\n",
            "text     0\n",
            "label    0\n",
            "dtype: int64\n"
          ],
          "name": "stdout"
        },
        {
          "output_type": "execute_result",
          "data": {
            "text/html": [
              "<div>\n",
              "<style scoped>\n",
              "    .dataframe tbody tr th:only-of-type {\n",
              "        vertical-align: middle;\n",
              "    }\n",
              "\n",
              "    .dataframe tbody tr th {\n",
              "        vertical-align: top;\n",
              "    }\n",
              "\n",
              "    .dataframe thead th {\n",
              "        text-align: right;\n",
              "    }\n",
              "</style>\n",
              "<table border=\"1\" class=\"dataframe\">\n",
              "  <thead>\n",
              "    <tr style=\"text-align: right;\">\n",
              "      <th></th>\n",
              "      <th>ID</th>\n",
              "      <th>text</th>\n",
              "      <th>label</th>\n",
              "    </tr>\n",
              "  </thead>\n",
              "  <tbody>\n",
              "    <tr>\n",
              "      <th>0</th>\n",
              "      <td>SUAVK39Z</td>\n",
              "      <td>I feel that it was better I dieAm happy</td>\n",
              "      <td>Depression</td>\n",
              "    </tr>\n",
              "    <tr>\n",
              "      <th>1</th>\n",
              "      <td>9JDAGUV3</td>\n",
              "      <td>Why do I get hallucinations?</td>\n",
              "      <td>Drugs</td>\n",
              "    </tr>\n",
              "    <tr>\n",
              "      <th>2</th>\n",
              "      <td>419WR1LQ</td>\n",
              "      <td>I am stresseed due to lack of financial suppor...</td>\n",
              "      <td>Depression</td>\n",
              "    </tr>\n",
              "    <tr>\n",
              "      <th>3</th>\n",
              "      <td>6UY7DX6Q</td>\n",
              "      <td>Why is life important?</td>\n",
              "      <td>Suicide</td>\n",
              "    </tr>\n",
              "    <tr>\n",
              "      <th>4</th>\n",
              "      <td>FYC0FTFB</td>\n",
              "      <td>How could I be helped to go through the depres...</td>\n",
              "      <td>Depression</td>\n",
              "    </tr>\n",
              "  </tbody>\n",
              "</table>\n",
              "</div>"
            ],
            "text/plain": [
              "         ID                                               text       label\n",
              "0  SUAVK39Z            I feel that it was better I dieAm happy  Depression\n",
              "1  9JDAGUV3                       Why do I get hallucinations?       Drugs\n",
              "2  419WR1LQ  I am stresseed due to lack of financial suppor...  Depression\n",
              "3  6UY7DX6Q                             Why is life important?     Suicide\n",
              "4  FYC0FTFB  How could I be helped to go through the depres...  Depression"
            ]
          },
          "metadata": {
            "tags": []
          },
          "execution_count": 8
        }
      ]
    },
    {
      "cell_type": "code",
      "metadata": {
        "id": "xkWBuNMZscLQ",
        "colab_type": "code",
        "colab": {
          "base_uri": "https://localhost:8080/",
          "height": 255
        },
        "outputId": "d33ba391-13dc-4229-950c-4ef691da6091"
      },
      "source": [
        "\n",
        "print('Test shape:',test.shape,'and number of null values are:',test.isnull().sum())\n",
        "test.head()"
      ],
      "execution_count": null,
      "outputs": [
        {
          "output_type": "stream",
          "text": [
            "Test shape: (309, 2) and number of null values are: ID      0\n",
            "text    0\n",
            "dtype: int64\n"
          ],
          "name": "stdout"
        },
        {
          "output_type": "execute_result",
          "data": {
            "text/html": [
              "<div>\n",
              "<style scoped>\n",
              "    .dataframe tbody tr th:only-of-type {\n",
              "        vertical-align: middle;\n",
              "    }\n",
              "\n",
              "    .dataframe tbody tr th {\n",
              "        vertical-align: top;\n",
              "    }\n",
              "\n",
              "    .dataframe thead th {\n",
              "        text-align: right;\n",
              "    }\n",
              "</style>\n",
              "<table border=\"1\" class=\"dataframe\">\n",
              "  <thead>\n",
              "    <tr style=\"text-align: right;\">\n",
              "      <th></th>\n",
              "      <th>ID</th>\n",
              "      <th>text</th>\n",
              "    </tr>\n",
              "  </thead>\n",
              "  <tbody>\n",
              "    <tr>\n",
              "      <th>0</th>\n",
              "      <td>02V56KMO</td>\n",
              "      <td>How to overcome bad feelings and emotions</td>\n",
              "    </tr>\n",
              "    <tr>\n",
              "      <th>1</th>\n",
              "      <td>03BMGTOK</td>\n",
              "      <td>I feel like giving up in life</td>\n",
              "    </tr>\n",
              "    <tr>\n",
              "      <th>2</th>\n",
              "      <td>03LZVFM6</td>\n",
              "      <td>I was so depressed feel like got no strength t...</td>\n",
              "    </tr>\n",
              "    <tr>\n",
              "      <th>3</th>\n",
              "      <td>0EPULUM5</td>\n",
              "      <td>I feel so low especially since I had no one to...</td>\n",
              "    </tr>\n",
              "    <tr>\n",
              "      <th>4</th>\n",
              "      <td>0GM4C5GD</td>\n",
              "      <td>can i be successful when I am a drug addict?</td>\n",
              "    </tr>\n",
              "  </tbody>\n",
              "</table>\n",
              "</div>"
            ],
            "text/plain": [
              "         ID                                               text\n",
              "0  02V56KMO          How to overcome bad feelings and emotions\n",
              "1  03BMGTOK                     I feel like giving up in life \n",
              "2  03LZVFM6  I was so depressed feel like got no strength t...\n",
              "3  0EPULUM5  I feel so low especially since I had no one to...\n",
              "4  0GM4C5GD       can i be successful when I am a drug addict?"
            ]
          },
          "metadata": {
            "tags": []
          },
          "execution_count": 7
        }
      ]
    },
    {
      "cell_type": "code",
      "metadata": {
        "id": "VXIBfB-xs5hw",
        "colab_type": "code",
        "colab": {
          "base_uri": "https://localhost:8080/",
          "height": 434
        },
        "outputId": "a9a5c71a-e234-4fa9-9d63-67c401f6d142"
      },
      "source": [
        "import matplotlib.pyplot as plt\n",
        "fig = plt.figure(figsize=(8,6))\n",
        "train.groupby('label').text.count().plot.bar(ylim=0)\n",
        "plt.show()"
      ],
      "execution_count": null,
      "outputs": [
        {
          "output_type": "display_data",
          "data": {
            "image/png": "[encoded data removed]",
            "text/plain": [
              "<Figure size 576x432 with 1 Axes>"
            ]
          },
          "metadata": {
            "tags": [],
            "needs_background": "light"
          }
        }
      ]
    },
    {
      "cell_type": "markdown",
      "metadata": {
        "id": "qai-iha2mcRr",
        "colab_type": "text"
      },
      "source": [
        "#text cleaning"
      ]
    },
    {
      "cell_type": "code",
      "metadata": {
        "id": "l6XYGUlnmeuM",
        "colab_type": "code",
        "colab": {}
      },
      "source": [
        "\n",
        "corpus  = []\n",
        "pstem = PorterStemmer()\n",
        "for i in range(train['text'].shape[0]):\n",
        "    #Remove unwanted words\n",
        "    tweet = re.sub(\"[^a-zA-Z]\", ' ', train['text'][i])\n",
        "    #Transform words to lowercase\n",
        "    tweet = tweet.lower()\n",
        "    tweet = tweet.split()\n",
        "    #Remove stopwords then Stemming it\n",
        "    tweet = [pstem.stem(word) for word in tweet if not word in set(stopwords.words('english'))]\n",
        "    tweet = ' '.join(tweet)\n",
        "    #Append cleaned tweet to corpus\n",
        "    corpus.append(tweet)"
      ],
      "execution_count": null,
      "outputs": []
    },
    {
      "cell_type": "code",
      "metadata": {
        "id": "fm-nWB8JcL_a",
        "colab_type": "code",
        "colab": {
          "base_uri": "https://localhost:8080/",
          "height": 54
        },
        "outputId": "d88c0399-b6b4-43a8-98de-a9d9bc8e09ed"
      },
      "source": [
        "stop_words = stopwords.words('english')\n",
        "print(stop_words)"
      ],
      "execution_count": null,
      "outputs": [
        {
          "output_type": "stream",
          "text": [
            "['i', 'me', 'my', 'myself', 'we', 'our', 'ours', 'ourselves', 'you', \"you're\", \"you've\", \"you'll\", \"you'd\", 'your', 'yours', 'yourself', 'yourselves', 'he', 'him', 'his', 'himself', 'she', \"she's\", 'her', 'hers', 'herself', 'it', \"it's\", 'its', 'itself', 'they', 'them', 'their', 'theirs', 'themselves', 'what', 'which', 'who', 'whom', 'this', 'that', \"that'll\", 'these', 'those', 'am', 'is', 'are', 'was', 'were', 'be', 'been', 'being', 'have', 'has', 'had', 'having', 'do', 'does', 'did', 'doing', 'a', 'an', 'the', 'and', 'but', 'if', 'or', 'because', 'as', 'until', 'while', 'of', 'at', 'by', 'for', 'with', 'about', 'against', 'between', 'into', 'through', 'during', 'before', 'after', 'above', 'below', 'to', 'from', 'up', 'down', 'in', 'out', 'on', 'off', 'over', 'under', 'again', 'further', 'then', 'once', 'here', 'there', 'when', 'where', 'why', 'how', 'all', 'any', 'both', 'each', 'few', 'more', 'most', 'other', 'some', 'such', 'no', 'nor', 'not', 'only', 'own', 'same', 'so', 'than', 'too', 'very', 's', 't', 'can', 'will', 'just', 'don', \"don't\", 'should', \"should've\", 'now', 'd', 'll', 'm', 'o', 're', 've', 'y', 'ain', 'aren', \"aren't\", 'couldn', \"couldn't\", 'didn', \"didn't\", 'doesn', \"doesn't\", 'hadn', \"hadn't\", 'hasn', \"hasn't\", 'haven', \"haven't\", 'isn', \"isn't\", 'ma', 'mightn', \"mightn't\", 'mustn', \"mustn't\", 'needn', \"needn't\", 'shan', \"shan't\", 'shouldn', \"shouldn't\", 'wasn', \"wasn't\", 'weren', \"weren't\", 'won', \"won't\", 'wouldn', \"wouldn't\"]\n"
          ],
          "name": "stdout"
        }
      ]
    },
    {
      "cell_type": "code",
      "metadata": {
        "id": "Vu3spk-0nROs",
        "colab_type": "code",
        "colab": {
          "base_uri": "https://localhost:8080/",
          "height": 119
        },
        "outputId": "f5f5af3f-37c4-449c-abed-f51a53fd1c39"
      },
      "source": [
        "print(pd.DataFrame(corpus)[0].head())"
      ],
      "execution_count": null,
      "outputs": [
        {
          "output_type": "stream",
          "text": [
            "0                    feel better dieam happi\n",
            "1                               get hallucin\n",
            "2    stresse due lack financi support school\n",
            "3                                life import\n",
            "4                      could help go depress\n",
            "Name: 0, dtype: object\n"
          ],
          "name": "stdout"
        }
      ]
    },
    {
      "cell_type": "code",
      "metadata": {
        "id": "gZC4QC25rCql",
        "colab_type": "code",
        "colab": {}
      },
      "source": [
        "train['clean']=corpus"
      ],
      "execution_count": null,
      "outputs": []
    },
    {
      "cell_type": "code",
      "metadata": {
        "id": "w1wEArVAmbv0",
        "colab_type": "code",
        "colab": {
          "base_uri": "https://localhost:8080/",
          "height": 204
        },
        "outputId": "e66221a4-c42d-490d-d873-c5b777f4b58a"
      },
      "source": [
        "train.head(5)"
      ],
      "execution_count": null,
      "outputs": [
        {
          "output_type": "execute_result",
          "data": {
            "text/html": [
              "<div>\n",
              "<style scoped>\n",
              "    .dataframe tbody tr th:only-of-type {\n",
              "        vertical-align: middle;\n",
              "    }\n",
              "\n",
              "    .dataframe tbody tr th {\n",
              "        vertical-align: top;\n",
              "    }\n",
              "\n",
              "    .dataframe thead th {\n",
              "        text-align: right;\n",
              "    }\n",
              "</style>\n",
              "<table border=\"1\" class=\"dataframe\">\n",
              "  <thead>\n",
              "    <tr style=\"text-align: right;\">\n",
              "      <th></th>\n",
              "      <th>ID</th>\n",
              "      <th>text</th>\n",
              "      <th>label</th>\n",
              "      <th>clean</th>\n",
              "    </tr>\n",
              "  </thead>\n",
              "  <tbody>\n",
              "    <tr>\n",
              "      <th>0</th>\n",
              "      <td>SUAVK39Z</td>\n",
              "      <td>I feel that it was better I dieAm happy</td>\n",
              "      <td>Depression</td>\n",
              "      <td>feel better dieam happi</td>\n",
              "    </tr>\n",
              "    <tr>\n",
              "      <th>1</th>\n",
              "      <td>9JDAGUV3</td>\n",
              "      <td>Why do I get hallucinations?</td>\n",
              "      <td>Drugs</td>\n",
              "      <td>get hallucin</td>\n",
              "    </tr>\n",
              "    <tr>\n",
              "      <th>2</th>\n",
              "      <td>419WR1LQ</td>\n",
              "      <td>I am stresseed due to lack of financial suppor...</td>\n",
              "      <td>Depression</td>\n",
              "      <td>stresse due lack financi support school</td>\n",
              "    </tr>\n",
              "    <tr>\n",
              "      <th>3</th>\n",
              "      <td>6UY7DX6Q</td>\n",
              "      <td>Why is life important?</td>\n",
              "      <td>Suicide</td>\n",
              "      <td>life import</td>\n",
              "    </tr>\n",
              "    <tr>\n",
              "      <th>4</th>\n",
              "      <td>FYC0FTFB</td>\n",
              "      <td>How could I be helped to go through the depres...</td>\n",
              "      <td>Depression</td>\n",
              "      <td>could help go depress</td>\n",
              "    </tr>\n",
              "  </tbody>\n",
              "</table>\n",
              "</div>"
            ],
            "text/plain": [
              "         ID  ...                                    clean\n",
              "0  SUAVK39Z  ...                  feel better dieam happi\n",
              "1  9JDAGUV3  ...                             get hallucin\n",
              "2  419WR1LQ  ...  stresse due lack financi support school\n",
              "3  6UY7DX6Q  ...                              life import\n",
              "4  FYC0FTFB  ...                    could help go depress\n",
              "\n",
              "[5 rows x 4 columns]"
            ]
          },
          "metadata": {
            "tags": []
          },
          "execution_count": 16
        }
      ]
    },
    {
      "cell_type": "code",
      "metadata": {
        "id": "cKfQIAwRC-7d",
        "colab_type": "code",
        "colab": {}
      },
      "source": [
        "df=train\n",
        "df['label'] = df['label'].factorize()[0]"
      ],
      "execution_count": null,
      "outputs": []
    },
    {
      "cell_type": "code",
      "metadata": {
        "id": "JMuOaIclp2qx",
        "colab_type": "code",
        "colab": {
          "base_uri": "https://localhost:8080/",
          "height": 204
        },
        "outputId": "bdd59eb1-61c8-45d6-e748-df45709abe50"
      },
      "source": [
        "df.head(5)"
      ],
      "execution_count": null,
      "outputs": [
        {
          "output_type": "execute_result",
          "data": {
            "text/html": [
              "<div>\n",
              "<style scoped>\n",
              "    .dataframe tbody tr th:only-of-type {\n",
              "        vertical-align: middle;\n",
              "    }\n",
              "\n",
              "    .dataframe tbody tr th {\n",
              "        vertical-align: top;\n",
              "    }\n",
              "\n",
              "    .dataframe thead th {\n",
              "        text-align: right;\n",
              "    }\n",
              "</style>\n",
              "<table border=\"1\" class=\"dataframe\">\n",
              "  <thead>\n",
              "    <tr style=\"text-align: right;\">\n",
              "      <th></th>\n",
              "      <th>ID</th>\n",
              "      <th>text</th>\n",
              "      <th>label</th>\n",
              "      <th>clean</th>\n",
              "    </tr>\n",
              "  </thead>\n",
              "  <tbody>\n",
              "    <tr>\n",
              "      <th>0</th>\n",
              "      <td>SUAVK39Z</td>\n",
              "      <td>I feel that it was better I dieAm happy</td>\n",
              "      <td>0</td>\n",
              "      <td>feel better dieam happi</td>\n",
              "    </tr>\n",
              "    <tr>\n",
              "      <th>1</th>\n",
              "      <td>9JDAGUV3</td>\n",
              "      <td>Why do I get hallucinations?</td>\n",
              "      <td>1</td>\n",
              "      <td>get hallucin</td>\n",
              "    </tr>\n",
              "    <tr>\n",
              "      <th>2</th>\n",
              "      <td>419WR1LQ</td>\n",
              "      <td>I am stresseed due to lack of financial suppor...</td>\n",
              "      <td>0</td>\n",
              "      <td>stresse due lack financi support school</td>\n",
              "    </tr>\n",
              "    <tr>\n",
              "      <th>3</th>\n",
              "      <td>6UY7DX6Q</td>\n",
              "      <td>Why is life important?</td>\n",
              "      <td>2</td>\n",
              "      <td>life import</td>\n",
              "    </tr>\n",
              "    <tr>\n",
              "      <th>4</th>\n",
              "      <td>FYC0FTFB</td>\n",
              "      <td>How could I be helped to go through the depres...</td>\n",
              "      <td>0</td>\n",
              "      <td>could help go depress</td>\n",
              "    </tr>\n",
              "  </tbody>\n",
              "</table>\n",
              "</div>"
            ],
            "text/plain": [
              "         ID  ...                                    clean\n",
              "0  SUAVK39Z  ...                  feel better dieam happi\n",
              "1  9JDAGUV3  ...                             get hallucin\n",
              "2  419WR1LQ  ...  stresse due lack financi support school\n",
              "3  6UY7DX6Q  ...                              life import\n",
              "4  FYC0FTFB  ...                    could help go depress\n",
              "\n",
              "[5 rows x 4 columns]"
            ]
          },
          "metadata": {
            "tags": []
          },
          "execution_count": 19
        }
      ]
    },
    {
      "cell_type": "code",
      "metadata": {
        "id": "Vl1kPVUStNH8",
        "colab_type": "code",
        "colab": {
          "base_uri": "https://localhost:8080/",
          "height": 34
        },
        "outputId": "e62c9072-650d-4a78-f612-3fd70766462a"
      },
      "source": [
        "tfidf = TfidfVectorizer(sublinear_tf=True, min_df=3, norm='l2', encoding='latin-1', ngram_range=(1,2), stop_words='english')\n",
        "features = tfidf.fit_transform(df.clean).toarray()\n",
        "labels = df.label\n",
        "features.shape"
      ],
      "execution_count": null,
      "outputs": [
        {
          "output_type": "execute_result",
          "data": {
            "text/plain": [
              "(616, 197)"
            ]
          },
          "metadata": {
            "tags": []
          },
          "execution_count": 25
        }
      ]
    },
    {
      "cell_type": "code",
      "metadata": {
        "id": "X_kLuiSGu8wU",
        "colab_type": "code",
        "colab": {
          "base_uri": "https://localhost:8080/",
          "height": 255
        },
        "outputId": "33a8bfb9-87c2-430a-d7a2-a143c2259f3e"
      },
      "source": [
        "terms = tfidf.get_feature_names()\n",
        "# sum tfidf frequency of each term through documents\n",
        "sums =  tfidf.fit_transform(df.clean).sum(axis=0)\n",
        "# connecting term to its sums frequency\n",
        "data = []\n",
        "for col, term in enumerate(terms):\n",
        "    data.append( (term, sums[0,col] ))\n",
        "\n",
        "ranking = pd.DataFrame(data, columns=['term','rank'])\n",
        "print(ranking.sort_values('rank', ascending=False))"
      ],
      "execution_count": null,
      "outputs": [
        {
          "output_type": "stream",
          "text": [
            "               term       rank\n",
            "61             feel  55.968182\n",
            "38          depress  39.843269\n",
            "3           alcohol  38.381857\n",
            "164            stop  25.785003\n",
            "99             life  24.650437\n",
            "..              ...        ...\n",
            "60              fee   1.510802\n",
            "81          guidanc   1.468479\n",
            "111        low self   1.456892\n",
            "39     depress feel   1.407745\n",
            "66   feel discourag   1.388885\n",
            "\n",
            "[197 rows x 2 columns]\n"
          ],
          "name": "stdout"
        }
      ]
    },
    {
      "cell_type": "code",
      "metadata": {
        "id": "Vs-a5BQJesG4",
        "colab_type": "code",
        "colab": {
          "base_uri": "https://localhost:8080/",
          "height": 35
        },
        "outputId": "e6d80f34-fd80-4781-b466-d9bd919218e3"
      },
      "source": [
        "\"\"\"\n",
        "count_vect = CountVectorizer()\n",
        "features = tfidf.fit_transform(df.clean).toarray()\n",
        "labels = df.label\n",
        "features.shape\"\"\"\n"
      ],
      "execution_count": null,
      "outputs": [
        {
          "output_type": "execute_result",
          "data": {
            "application/vnd.google.colaboratory.intrinsic+json": {
              "type": "string"
            },
            "text/plain": [
              "'\\ncount_vect = CountVectorizer()\\nfeatures = tfidf.fit_transform(df.clean).toarray()\\nlabels = df.label\\nfeatures.shape'"
            ]
          },
          "metadata": {
            "tags": []
          },
          "execution_count": 23
        }
      ]
    },
    {
      "cell_type": "code",
      "metadata": {
        "id": "YWK4GwScxQPX",
        "colab_type": "code",
        "colab": {}
      },
      "source": [
        "\"\"\"from sklearn.feature_selection import chi2\n",
        "import numpy as np\n",
        "N = 2\n",
        "for label, category_id in sorted(category_to_id.items()):\n",
        "  features_chi2 = chi2(features, labels == category_id)\n",
        "  indices = np.argsort(features_chi2[0])\n",
        "  feature_names = np.array(tfidf.get_feature_names())[indices]\n",
        "  unigrams = [v for v in feature_names if len(v.split(' ')) == 1]\n",
        "  bigrams = [v for v in feature_names if len(v.split(' ')) == 2]\n",
        "  print(\"# '{}':\".format(label))\n",
        "  print(\"  . Most correlated unigrams:\\n. {}\".format('\\n. '.join(unigrams[-N:])))\n",
        "  print(\"  . Most correlated bigrams:\\n. {}\".format('\\n. '.join(bigrams[-N:])))\"\"\""
      ],
      "execution_count": null,
      "outputs": []
    },
    {
      "cell_type": "code",
      "metadata": {
        "id": "4nd8WgBY6vTF",
        "colab_type": "code",
        "colab": {
          "base_uri": "https://localhost:8080/",
          "height": 195
        },
        "outputId": "9e3640d5-eac5-40c7-f418-9814f54c91cb"
      },
      "source": [
        "df.head(5)"
      ],
      "execution_count": null,
      "outputs": [
        {
          "output_type": "execute_result",
          "data": {
            "text/html": [
              "<div>\n",
              "<style scoped>\n",
              "    .dataframe tbody tr th:only-of-type {\n",
              "        vertical-align: middle;\n",
              "    }\n",
              "\n",
              "    .dataframe tbody tr th {\n",
              "        vertical-align: top;\n",
              "    }\n",
              "\n",
              "    .dataframe thead th {\n",
              "        text-align: right;\n",
              "    }\n",
              "</style>\n",
              "<table border=\"1\" class=\"dataframe\">\n",
              "  <thead>\n",
              "    <tr style=\"text-align: right;\">\n",
              "      <th></th>\n",
              "      <th>ID</th>\n",
              "      <th>text</th>\n",
              "      <th>label</th>\n",
              "      <th>clean</th>\n",
              "    </tr>\n",
              "  </thead>\n",
              "  <tbody>\n",
              "    <tr>\n",
              "      <th>0</th>\n",
              "      <td>SUAVK39Z</td>\n",
              "      <td>I feel that it was better I dieAm happy</td>\n",
              "      <td>0</td>\n",
              "      <td>feel better dieam happi</td>\n",
              "    </tr>\n",
              "    <tr>\n",
              "      <th>1</th>\n",
              "      <td>9JDAGUV3</td>\n",
              "      <td>Why do I get hallucinations?</td>\n",
              "      <td>1</td>\n",
              "      <td>get hallucin</td>\n",
              "    </tr>\n",
              "    <tr>\n",
              "      <th>2</th>\n",
              "      <td>419WR1LQ</td>\n",
              "      <td>I am stresseed due to lack of financial suppor...</td>\n",
              "      <td>0</td>\n",
              "      <td>stresse due lack financi support school</td>\n",
              "    </tr>\n",
              "    <tr>\n",
              "      <th>3</th>\n",
              "      <td>6UY7DX6Q</td>\n",
              "      <td>Why is life important?</td>\n",
              "      <td>2</td>\n",
              "      <td>life import</td>\n",
              "    </tr>\n",
              "    <tr>\n",
              "      <th>4</th>\n",
              "      <td>FYC0FTFB</td>\n",
              "      <td>How could I be helped to go through the depres...</td>\n",
              "      <td>0</td>\n",
              "      <td>could help go depress</td>\n",
              "    </tr>\n",
              "  </tbody>\n",
              "</table>\n",
              "</div>"
            ],
            "text/plain": [
              "         ID  ...                                    clean\n",
              "0  SUAVK39Z  ...                  feel better dieam happi\n",
              "1  9JDAGUV3  ...                             get hallucin\n",
              "2  419WR1LQ  ...  stresse due lack financi support school\n",
              "3  6UY7DX6Q  ...                              life import\n",
              "4  FYC0FTFB  ...                    could help go depress\n",
              "\n",
              "[5 rows x 4 columns]"
            ]
          },
          "metadata": {
            "tags": []
          },
          "execution_count": 63
        }
      ]
    },
    {
      "cell_type": "code",
      "metadata": {
        "id": "A-mNBFBXUZPq",
        "colab_type": "code",
        "colab": {}
      },
      "source": [
        "X_train, X_test, y_train, y_test, indices_train, indices_test = train_test_split(features, labels, df.index, test_size=0.25, random_state=42)"
      ],
      "execution_count": null,
      "outputs": []
    },
    {
      "cell_type": "markdown",
      "metadata": {
        "id": "KT2d9t3RD5Bo",
        "colab_type": "text"
      },
      "source": [
        "#Mfcc"
      ]
    },
    {
      "cell_type": "code",
      "metadata": {
        "id": "H4iuiLg8E_eM",
        "colab_type": "code",
        "colab": {}
      },
      "source": [
        "grid_values = {'max_iter':[70,80,90,100,110,120],\n",
        "               #'activation':['identity', 'logistic', 'tanh', 'relu'],\n",
        "               #'solver':[ 'sgd', 'adam']\n",
        "               }\n",
        "#hidden_layer_sizes=(25,12,4)"
      ],
      "execution_count": null,
      "outputs": []
    },
    {
      "cell_type": "code",
      "metadata": {
        "id": "F4ZZdstHFBi1",
        "colab_type": "code",
        "colab": {}
      },
      "source": [
        "model = MLPClassifier()\n",
        "grid_clf_acc = GridSearchCV(model, param_grid = grid_values,scoring = 'neg_log_loss')\n",
        "grid_clf_acc.fit(features, labels)"
      ],
      "execution_count": null,
      "outputs": []
    },
    {
      "cell_type": "code",
      "metadata": {
        "id": "7pEgHUecF7xt",
        "colab_type": "code",
        "colab": {
          "base_uri": "https://localhost:8080/",
          "height": 34
        },
        "outputId": "51dc5eca-c59c-49d0-c79d-c6f0ba8d898e"
      },
      "source": [
        "grid_clf_acc.best_params_"
      ],
      "execution_count": null,
      "outputs": [
        {
          "output_type": "execute_result",
          "data": {
            "text/plain": [
              "{'max_iter': 70}"
            ]
          },
          "metadata": {
            "tags": []
          },
          "execution_count": 128
        }
      ]
    },
    {
      "cell_type": "markdown",
      "metadata": {
        "id": "RPkRhWCx58P6",
        "colab_type": "text"
      },
      "source": [
        "#svm"
      ]
    },
    {
      "cell_type": "code",
      "metadata": {
        "id": "6_gNacP2Bm0L",
        "colab_type": "code",
        "colab": {}
      },
      "source": [
        "'''grid_values = {'kernel': ['rbf'], 'gamma': [1e-3, 1e-4],\n",
        "                     'C': [1, 10, 100, 1000,1100,1200]}'''\n",
        "grid_values={ 'C': [0.1,0.3,0.5,0.6,0.7,0.8,1, 10, 100]}"
      ],
      "execution_count": null,
      "outputs": []
    },
    {
      "cell_type": "code",
      "metadata": {
        "id": "sFgiNEXA57lh",
        "colab_type": "code",
        "colab": {}
      },
      "source": [
        "grid_values = {'C': [0.01,0.1, 1, 10,15],\n",
        "               'degree':[2,3,4,5],\n",
        "               'gamma':['scale', 'auto'] }"
      ],
      "execution_count": null,
      "outputs": []
    },
    {
      "cell_type": "code",
      "metadata": {
        "id": "8mVb0MXh6n2G",
        "colab_type": "code",
        "colab": {
          "base_uri": "https://localhost:8080/",
          "height": 202
        },
        "outputId": "0c059883-e198-4bb6-d5e9-140142395166"
      },
      "source": [
        "model = svm.SVC(probability=True)\n",
        "grid_clf_acc = GridSearchCV(model, param_grid = grid_values,scoring = 'neg_log_loss')\n",
        "grid_clf_acc.fit(features, labels)"
      ],
      "execution_count": null,
      "outputs": [
        {
          "output_type": "execute_result",
          "data": {
            "text/plain": [
              "GridSearchCV(cv=None, error_score=nan,\n",
              "             estimator=SVC(C=1.0, break_ties=False, cache_size=200,\n",
              "                           class_weight=None, coef0=0.0,\n",
              "                           decision_function_shape='ovr', degree=3,\n",
              "                           gamma='scale', kernel='rbf', max_iter=-1,\n",
              "                           probability=True, random_state=None, shrinking=True,\n",
              "                           tol=0.001, verbose=False),\n",
              "             iid='deprecated', n_jobs=None,\n",
              "             param_grid={'C': [0.1, 0.3, 0.5, 0.6, 0.7, 0.8, 1, 10, 100]},\n",
              "             pre_dispatch='2*n_jobs', refit=True, return_train_score=False,\n",
              "             scoring='neg_log_loss', verbose=0)"
            ]
          },
          "metadata": {
            "tags": []
          },
          "execution_count": 121
        }
      ]
    },
    {
      "cell_type": "code",
      "metadata": {
        "id": "nNGZwZB4nGJ5",
        "colab_type": "code",
        "colab": {
          "base_uri": "https://localhost:8080/",
          "height": 34
        },
        "outputId": "ccd7544b-1c91-4f8a-f051-38e194b4e609"
      },
      "source": [
        "grid_clf_acc.best_params_"
      ],
      "execution_count": null,
      "outputs": [
        {
          "output_type": "execute_result",
          "data": {
            "text/plain": [
              "{'C': 0.1}"
            ]
          },
          "metadata": {
            "tags": []
          },
          "execution_count": 122
        }
      ]
    },
    {
      "cell_type": "markdown",
      "metadata": {
        "id": "wGR6NPeuM1V5",
        "colab_type": "text"
      },
      "source": [
        "#SGD"
      ]
    },
    {
      "cell_type": "code",
      "metadata": {
        "id": "SUg3hC2OICZF",
        "colab_type": "code",
        "colab": {}
      },
      "source": [
        "grid_values = {'alpha': [0.001,0.002,0.005,0.01,0.1, 1],\n",
        "               #'penalty':['l1', 'l2','elasticnet'],\n",
        "               'max_iter':[40,50,500,700,800,900,1000,1200],\n",
        "               #'fit_intercept':[True,False]\n",
        "               }\n",
        "model = SGDClassifier(loss='log')\n"
      ],
      "execution_count": null,
      "outputs": []
    },
    {
      "cell_type": "code",
      "metadata": {
        "id": "u3LlN3SSIPYV",
        "colab_type": "code",
        "colab": {
          "base_uri": "https://localhost:8080/",
          "height": 286
        },
        "outputId": "021aa1c8-eacf-4176-cd55-9c14a73c5ced"
      },
      "source": [
        "grid_clf_acc = GridSearchCV(model, param_grid = grid_values,scoring = 'neg_log_loss')\n",
        "grid_clf_acc.fit(features, labels)"
      ],
      "execution_count": null,
      "outputs": [
        {
          "output_type": "execute_result",
          "data": {
            "text/plain": [
              "GridSearchCV(cv=None, error_score=nan,\n",
              "             estimator=SGDClassifier(alpha=0.0001, average=False,\n",
              "                                     class_weight=None, early_stopping=False,\n",
              "                                     epsilon=0.1, eta0=0.0, fit_intercept=True,\n",
              "                                     l1_ratio=0.15, learning_rate='optimal',\n",
              "                                     loss='log', max_iter=1000,\n",
              "                                     n_iter_no_change=5, n_jobs=None,\n",
              "                                     penalty='l2', power_t=0.5,\n",
              "                                     random_state=None, shuffle=True, tol=0.001,\n",
              "                                     validation_fraction=0.1, verbose=0,\n",
              "                                     warm_start=False),\n",
              "             iid='deprecated', n_jobs=None,\n",
              "             param_grid={'alpha': [0.001, 0.002, 0.005, 0.01, 0.1, 1],\n",
              "                         'max_iter': [40, 50, 500, 700, 800, 900, 1000, 1200]},\n",
              "             pre_dispatch='2*n_jobs', refit=True, return_train_score=False,\n",
              "             scoring='neg_log_loss', verbose=0)"
            ]
          },
          "metadata": {
            "tags": []
          },
          "execution_count": 137
        }
      ]
    },
    {
      "cell_type": "code",
      "metadata": {
        "id": "X5holuG7LjrM",
        "colab_type": "code",
        "colab": {
          "base_uri": "https://localhost:8080/",
          "height": 34
        },
        "outputId": "79cbed6b-1ae9-4fc2-c5ff-24b6513ad9f9"
      },
      "source": [
        "grid_clf_acc.best_params_"
      ],
      "execution_count": null,
      "outputs": [
        {
          "output_type": "execute_result",
          "data": {
            "text/plain": [
              "{'alpha': 0.001, 'max_iter': 50}"
            ]
          },
          "metadata": {
            "tags": []
          },
          "execution_count": 138
        }
      ]
    },
    {
      "cell_type": "markdown",
      "metadata": {
        "id": "P9SXkWEfvPFL",
        "colab_type": "text"
      },
      "source": [
        "#AdaboostClassifier"
      ]
    },
    {
      "cell_type": "code",
      "metadata": {
        "id": "6HUIAzKKPxYG",
        "colab_type": "code",
        "colab": {}
      },
      "source": [
        "grid_values = {'n_estimators': [50],\n",
        "               'learning_rate':[0.1]}\n",
        "model=AdaBoostClassifier(svm.SVC(probability=True, kernel='linear'))\n"
      ],
      "execution_count": null,
      "outputs": []
    },
    {
      "cell_type": "code",
      "metadata": {
        "id": "TdeDaCaxQnIH",
        "colab_type": "code",
        "colab": {
          "base_uri": "https://localhost:8080/",
          "height": 403
        },
        "outputId": "a9280541-9990-4752-97a3-37c0a29f4227"
      },
      "source": [
        "grid_clf_acc = GridSearchCV(model, param_grid = grid_values,scoring = 'neg_log_loss')\n",
        "grid_clf_acc.fit(features, labels)"
      ],
      "execution_count": null,
      "outputs": [
        {
          "output_type": "execute_result",
          "data": {
            "text/plain": [
              "GridSearchCV(cv=None, error_score=nan,\n",
              "             estimator=AdaBoostClassifier(algorithm='SAMME.R',\n",
              "                                          base_estimator=SVC(C=1.0,\n",
              "                                                             break_ties=False,\n",
              "                                                             cache_size=200,\n",
              "                                                             class_weight=None,\n",
              "                                                             coef0=0.0,\n",
              "                                                             decision_function_shape='ovr',\n",
              "                                                             degree=3,\n",
              "                                                             gamma='scale',\n",
              "                                                             kernel='linear',\n",
              "                                                             max_iter=-1,\n",
              "                                                             probability=True,\n",
              "                                                             random_state=None,\n",
              "                                                             shrinking=True,\n",
              "                                                             tol=0.001,\n",
              "                                                             verbose=False),\n",
              "                                          learning_rate=1.0, n_estimators=50,\n",
              "                                          random_state=None),\n",
              "             iid='deprecated', n_jobs=None,\n",
              "             param_grid={'learning_rate': [0.1], 'n_estimators': [50]},\n",
              "             pre_dispatch='2*n_jobs', refit=True, return_train_score=False,\n",
              "             scoring='neg_log_loss', verbose=0)"
            ]
          },
          "metadata": {
            "tags": []
          },
          "execution_count": 404
        }
      ]
    },
    {
      "cell_type": "code",
      "metadata": {
        "id": "TnpZRCrkQtAz",
        "colab_type": "code",
        "colab": {
          "base_uri": "https://localhost:8080/",
          "height": 34
        },
        "outputId": "cf36bdb8-3571-46ee-9d57-b44aefa7c46f"
      },
      "source": [
        "grid_clf_acc.best_params_\n",
        "#classifier=AdaBoostClassifier('learning_rate': 0.1, 'n_estimators': 10)\n"
      ],
      "execution_count": null,
      "outputs": [
        {
          "output_type": "execute_result",
          "data": {
            "text/plain": [
              "{'learning_rate': 0.1, 'n_estimators': 50}"
            ]
          },
          "metadata": {
            "tags": []
          },
          "execution_count": 405
        }
      ]
    },
    {
      "cell_type": "markdown",
      "metadata": {
        "id": "Vw1ukg3vfntW",
        "colab_type": "text"
      },
      "source": [
        "#OneVsRestClassifier"
      ]
    },
    {
      "cell_type": "code",
      "metadata": {
        "id": "s36voSwNf2FN",
        "colab_type": "code",
        "colab": {}
      },
      "source": [
        "grid_values = {'n_estimators': [50],\n",
        "               'learning_rate':[0.1]}\n",
        "classifier=OneVsRestClassifier(XGBClassifier(n_jobs=-1, max_depth=4))"
      ],
      "execution_count": null,
      "outputs": []
    },
    {
      "cell_type": "code",
      "metadata": {
        "id": "Cb2JKi5tgLQQ",
        "colab_type": "code",
        "colab": {}
      },
      "source": [
        "grid_clf_acc = GridSearchCV(model, param_grid = grid_values,scoring = 'neg_log_loss')\n",
        "grid_clf_acc.fit(features, labels)"
      ],
      "execution_count": null,
      "outputs": []
    },
    {
      "cell_type": "markdown",
      "metadata": {
        "id": "R-JxzOAq0EC2",
        "colab_type": "text"
      },
      "source": [
        "#naiveB"
      ]
    },
    {
      "cell_type": "code",
      "metadata": {
        "id": "LCosWQAO0Gqu",
        "colab_type": "code",
        "colab": {}
      },
      "source": [
        "grid_values = {'alpha': [0.05,0.1,0.15,0.2,0.25,0.3,0.4,0.6,0.7,0.9,1,1.2]}\n",
        "model=MultinomialNB(alpha=0.15)\n"
      ],
      "execution_count": null,
      "outputs": []
    },
    {
      "cell_type": "code",
      "metadata": {
        "id": "koK7fvTa0kBM",
        "colab_type": "code",
        "colab": {
          "base_uri": "https://localhost:8080/",
          "height": 151
        },
        "outputId": "3e2255e6-a6c5-4133-cec4-78c4ac239147"
      },
      "source": [
        "grid_clf_acc = GridSearchCV(model, param_grid = grid_values,scoring = 'neg_log_loss')\n",
        "grid_clf_acc.fit(features, labels)"
      ],
      "execution_count": null,
      "outputs": [
        {
          "output_type": "execute_result",
          "data": {
            "text/plain": [
              "GridSearchCV(cv=None, error_score=nan,\n",
              "             estimator=MultinomialNB(alpha=1.0, class_prior=None,\n",
              "                                     fit_prior=True),\n",
              "             iid='deprecated', n_jobs=None,\n",
              "             param_grid={'alpha': [0.05, 0.1, 0.15, 0.2, 0.25, 0.3, 0.4, 0.6,\n",
              "                                   0.7, 0.9, 1, 1.2]},\n",
              "             pre_dispatch='2*n_jobs', refit=True, return_train_score=False,\n",
              "             scoring='neg_log_loss', verbose=0)"
            ]
          },
          "metadata": {
            "tags": []
          },
          "execution_count": 197
        }
      ]
    },
    {
      "cell_type": "code",
      "metadata": {
        "id": "C8gR0Mbf0703",
        "colab_type": "code",
        "colab": {
          "base_uri": "https://localhost:8080/",
          "height": 34
        },
        "outputId": "5ff53de4-cc97-4978-8e49-b158e8339bea"
      },
      "source": [
        "grid_clf_acc.best_params_"
      ],
      "execution_count": null,
      "outputs": [
        {
          "output_type": "execute_result",
          "data": {
            "text/plain": [
              "{'alpha': 0.15}"
            ]
          },
          "metadata": {
            "tags": []
          },
          "execution_count": 198
        }
      ]
    },
    {
      "cell_type": "markdown",
      "metadata": {
        "id": "frUHmIrRUMgY",
        "colab_type": "text"
      },
      "source": [
        "#Logistic_reg"
      ]
    },
    {
      "cell_type": "code",
      "metadata": {
        "id": "INsH7hSSGNDl",
        "colab_type": "code",
        "colab": {}
      },
      "source": [
        "grid_values = {'penalty': ['l2'],'C':[0.01,.09,1,2,3,4,4.1,4.2,4.25,4.3,5,7,10],'max_iter':[50,52,54,56,57,58,59,60,70,90,100]}"
      ],
      "execution_count": null,
      "outputs": []
    },
    {
      "cell_type": "code",
      "metadata": {
        "id": "h7mV7DzPGPWa",
        "colab_type": "code",
        "colab": {}
      },
      "source": [
        "model = LogisticRegression()\n",
        "grid_clf_acc = GridSearchCV(model, param_grid = grid_values,scoring = 'neg_log_loss')\n",
        "grid_clf_acc.fit(features, labels)"
      ],
      "execution_count": null,
      "outputs": []
    },
    {
      "cell_type": "code",
      "metadata": {
        "id": "h_1bvWHQHdJp",
        "colab_type": "code",
        "colab": {
          "base_uri": "https://localhost:8080/",
          "height": 34
        },
        "outputId": "6bc3eefc-af72-4ea1-92b9-dc518c382ad9"
      },
      "source": [
        "grid_clf_acc.best_params_"
      ],
      "execution_count": null,
      "outputs": [
        {
          "output_type": "execute_result",
          "data": {
            "text/plain": [
              "{'C': 7, 'max_iter': 50, 'penalty': 'l2'}"
            ]
          },
          "metadata": {
            "tags": []
          },
          "execution_count": 163
        }
      ]
    },
    {
      "cell_type": "markdown",
      "metadata": {
        "id": "YtqE5ve5Uk5t",
        "colab_type": "text"
      },
      "source": [
        "#RandomForest"
      ]
    },
    {
      "cell_type": "code",
      "metadata": {
        "id": "t6ojLRImUj1H",
        "colab_type": "code",
        "colab": {}
      },
      "source": [
        "grid_values = {\n",
        "    #'min_samples_leaf': [2,3, 4, 5],\n",
        "    #'min_samples_split': [5,6,7,8, 10, 12],\n",
        "    'n_estimators': [80,90,94,96],\n",
        "    'max_depth': [10,40,70, 100, None],\n",
        "}"
      ],
      "execution_count": null,
      "outputs": []
    },
    {
      "cell_type": "code",
      "metadata": {
        "id": "rqjvlyGEZXfU",
        "colab_type": "code",
        "colab": {}
      },
      "source": [
        "\n",
        "    'max_depth': [10, 20, 30, 40, 50, 60, 70, 80, 90, 100, None],\n",
        "   "
      ],
      "execution_count": null,
      "outputs": []
    },
    {
      "cell_type": "code",
      "metadata": {
        "id": "Fi1jv0k0VxdY",
        "colab_type": "code",
        "colab": {}
      },
      "source": [
        "model=RandomForestClassifier()"
      ],
      "execution_count": null,
      "outputs": []
    },
    {
      "cell_type": "code",
      "metadata": {
        "id": "AeyEI3s8WGuw",
        "colab_type": "code",
        "colab": {
          "base_uri": "https://localhost:8080/",
          "height": 370
        },
        "outputId": "77fb84e7-8db1-413c-b879-708d2a59d20b"
      },
      "source": [
        "grid_clf_acc = GridSearchCV(model, param_grid = grid_values,scoring = 'neg_log_loss')\n",
        "grid_clf_acc.fit(features, labels)"
      ],
      "execution_count": null,
      "outputs": [
        {
          "output_type": "execute_result",
          "data": {
            "text/plain": [
              "GridSearchCV(cv=None, error_score=nan,\n",
              "             estimator=RandomForestClassifier(bootstrap=True, ccp_alpha=0.0,\n",
              "                                              class_weight=None,\n",
              "                                              criterion='gini', max_depth=None,\n",
              "                                              max_features='auto',\n",
              "                                              max_leaf_nodes=None,\n",
              "                                              max_samples=None,\n",
              "                                              min_impurity_decrease=0.0,\n",
              "                                              min_impurity_split=None,\n",
              "                                              min_samples_leaf=1,\n",
              "                                              min_samples_split=2,\n",
              "                                              min_weight_fraction_leaf=0.0,\n",
              "                                              n_estimators=100, n_jobs=None,\n",
              "                                              oob_score=False,\n",
              "                                              random_state=None, verbose=0,\n",
              "                                              warm_start=False),\n",
              "             iid='deprecated', n_jobs=None,\n",
              "             param_grid={'max_depth': [10, 40, 70, 100, None],\n",
              "                         'n_estimators': [80, 90, 94, 96]},\n",
              "             pre_dispatch='2*n_jobs', refit=True, return_train_score=False,\n",
              "             scoring='neg_log_loss', verbose=0)"
            ]
          },
          "metadata": {
            "tags": []
          },
          "execution_count": 164
        }
      ]
    },
    {
      "cell_type": "code",
      "metadata": {
        "id": "EgwVgOUYZ0eZ",
        "colab_type": "code",
        "colab": {
          "base_uri": "https://localhost:8080/",
          "height": 34
        },
        "outputId": "dd4df91b-659c-4523-b36b-5e7747b7f86e"
      },
      "source": [
        "grid_clf_acc.best_params_"
      ],
      "execution_count": null,
      "outputs": [
        {
          "output_type": "execute_result",
          "data": {
            "text/plain": [
              "{'max_depth': 10, 'n_estimators': 80}"
            ]
          },
          "metadata": {
            "tags": []
          },
          "execution_count": 165
        }
      ]
    },
    {
      "cell_type": "markdown",
      "metadata": {
        "id": "-lzfdVEbyzVS",
        "colab_type": "text"
      },
      "source": [
        "#VotingClassifier"
      ]
    },
    {
      "cell_type": "code",
      "metadata": {
        "id": "me2moN1wy3uQ",
        "colab_type": "code",
        "colab": {}
      },
      "source": [
        "clf0 = classifier=OneVsRestClassifier(LogisticRegression(C=7,max_iter=50))\n",
        "clf1=RandomForestClassifier(max_depth= 70,min_samples_leaf= 2,min_samples_split= 12,n_estimators= 94)\n",
        "clf2 = OneVsRestClassifier(svm.SVC(C=0.7,probability=True,kernel='linear'))\n",
        "clf3 = XGBClassifier(colsample_bytree= 0.9, max_depth= 6,n_estimators= 80, subsample= 0.9)\n",
        "clf4=svm.SVC(C=0.7,kernel= 'linear',probability=True)\n",
        "model = VotingClassifier(estimators=[('dt', clf1), ('knn', clf2), ('svc', clf3),('svm',clf4),('hh',clf0)],voting='soft')\n",
        "params = {'voting': ['soft']}\n",
        "\n",
        "grid_clf_acc = GridSearchCV(estimator=model, param_grid=params, cv=5,scoring = 'neg_log_loss')\n",
        "grid_clf_acc = grid_clf_acc.fit(features, labels)"
      ],
      "execution_count": null,
      "outputs": []
    },
    {
      "cell_type": "markdown",
      "metadata": {
        "id": "_StLsFzSdLuC",
        "colab_type": "text"
      },
      "source": [
        "#Xgboost"
      ]
    },
    {
      "cell_type": "code",
      "metadata": {
        "id": "t7TVl6kFel2B",
        "colab_type": "code",
        "colab": {}
      },
      "source": [
        "grid_values = {\n",
        "        \n",
        "        'max_depth': [3,5,6, 9],\n",
        "        #'subsample': [0.9, 1.0],\n",
        "        'learning_rate':[0.1,0.01,0.5],\n",
        "        'n_estimators':[60,80,100,110],\n",
        "        \n",
        "    }"
      ],
      "execution_count": null,
      "outputs": []
    },
    {
      "cell_type": "code",
      "metadata": {
        "id": "MJA6L9_XfQRR",
        "colab_type": "code",
        "colab": {}
      },
      "source": [
        "'num_boost_round': [100, 250, 500],\n",
        "        'eta': [0.05, 0.1, 0.3],\n",
        "      'learning_rate':[0.1,0.01,0.5]  \n",
        "    \n",
        "    "
      ],
      "execution_count": null,
      "outputs": []
    },
    {
      "cell_type": "code",
      "metadata": {
        "id": "jF35aWu1eP06",
        "colab_type": "code",
        "colab": {}
      },
      "source": [
        "model=XGBClassifier(nthread = 4)"
      ],
      "execution_count": null,
      "outputs": []
    },
    {
      "cell_type": "code",
      "metadata": {
        "id": "_x_8R9POerER",
        "colab_type": "code",
        "colab": {
          "base_uri": "https://localhost:8080/",
          "height": 319
        },
        "outputId": "c553da1b-7a84-4690-9fb4-9219a86c7ad8"
      },
      "source": [
        "grid_clf_acc = GridSearchCV(model, param_grid = grid_values,scoring = 'neg_log_loss')\n",
        "grid_clf_acc.fit(features, labels)"
      ],
      "execution_count": null,
      "outputs": [
        {
          "output_type": "execute_result",
          "data": {
            "text/plain": [
              "GridSearchCV(cv=None, error_score=nan,\n",
              "             estimator=XGBClassifier(base_score=0.5, booster='gbtree',\n",
              "                                     colsample_bylevel=1, colsample_bynode=1,\n",
              "                                     colsample_bytree=1, gamma=0,\n",
              "                                     learning_rate=0.1, max_delta_step=0,\n",
              "                                     max_depth=3, min_child_weight=1,\n",
              "                                     missing=None, n_estimators=100, n_jobs=1,\n",
              "                                     nthread=4, objective='binary:logistic',\n",
              "                                     random_state=0, reg_alpha=0, reg_lambda=1,\n",
              "                                     scale_pos_weight=1, seed=None, silent=None,\n",
              "                                     subsample=1, verbosity=1),\n",
              "             iid='deprecated', n_jobs=None,\n",
              "             param_grid={'learning_rate': [0.1, 0.01, 0.5],\n",
              "                         'max_depth': [3, 5, 6, 9],\n",
              "                         'n_estimators': [60, 80, 100, 110],\n",
              "                         'subsample': [0.9, 1.0]},\n",
              "             pre_dispatch='2*n_jobs', refit=True, return_train_score=False,\n",
              "             scoring='neg_log_loss', verbose=0)"
            ]
          },
          "metadata": {
            "tags": []
          },
          "execution_count": 235
        }
      ]
    },
    {
      "cell_type": "code",
      "metadata": {
        "id": "w3bnvjsTftqM",
        "colab_type": "code",
        "colab": {
          "base_uri": "https://localhost:8080/",
          "height": 101
        },
        "outputId": "18c32e17-34a0-41dc-8e3d-ef9c1b3a09f7"
      },
      "source": [
        "grid_clf_acc.best_params_"
      ],
      "execution_count": null,
      "outputs": [
        {
          "output_type": "execute_result",
          "data": {
            "text/plain": [
              "{'colsample_bytree': 0.9,\n",
              " 'learning_rate': 0.1,\n",
              " 'max_depth': 6,\n",
              " 'n_estimators': 80,\n",
              " 'subsample': 0.9}"
            ]
          },
          "metadata": {
            "tags": []
          },
          "execution_count": 38
        }
      ]
    },
    {
      "cell_type": "code",
      "metadata": {
        "id": "j7kPBe1XejSm",
        "colab_type": "code",
        "colab": {
          "base_uri": "https://localhost:8080/",
          "height": 84
        },
        "outputId": "010362ff-a278-40cf-ca8f-90b647174e5e"
      },
      "source": [
        "grid_clf_acc.best_params_"
      ],
      "execution_count": null,
      "outputs": [
        {
          "output_type": "execute_result",
          "data": {
            "text/plain": [
              "{'colsample_bytree': 0.9,\n",
              " 'max_depth': 5,\n",
              " 'n_estimators': 110,\n",
              " 'subsample': 1.0}"
            ]
          },
          "metadata": {
            "tags": []
          },
          "execution_count": 420
        }
      ]
    },
    {
      "cell_type": "markdown",
      "metadata": {
        "id": "o_V8ILY7Uqrw",
        "colab_type": "text"
      },
      "source": [
        ""
      ]
    },
    {
      "cell_type": "code",
      "metadata": {
        "id": "Po8MxxR3RxRC",
        "colab_type": "code",
        "colab": {}
      },
      "source": [
        "classifier=XGBClassifier(colsample_bytree= 0.9, max_depth= 6,n_estimators= 80, subsample= 0.9)\n",
        "#classifier=OneVsRestClassifier(svm.SVC(C=0.7,probability=True,kernel='linear'))\n",
        "#classifier=OneVsRestClassifier(LogisticRegression(C=7,max_iter=50))\n",
        "#classifier=MLPClassifier(max_iter=120)\n",
        "#classifier=model\n",
        "#classifier=lgb.LGBMClassifier(learning_rate= 0.1, n_estimators= 70)\n",
        "#classifier = svm.SVC(C=0.6,kernel= 'linear',probability=True)\n",
        "#classifier=AdaBoostClassifier(LogisticRegression())\n",
        "#classifier=SGDClassifier(loss='log',alpha= 0.001, max_iter= 50, penalty='l1')\n",
        "#classifier=RandomForestClassifier(max_depth= 40,min_samples_leaf= 2,min_samples_split= 12,n_estimators= 96)\n",
        "#classifier=LogisticRegression(C=7,max_iter=50)\n",
        "cv = cross_validate(estimator=classifier, X=features, y=labels,scoring = ('neg_log_loss','accuracy'), cv=3)\n"
      ],
      "execution_count": null,
      "outputs": []
    },
    {
      "cell_type": "code",
      "metadata": {
        "id": "nIMt0JWYyM-T",
        "colab_type": "code",
        "colab": {
          "base_uri": "https://localhost:8080/",
          "height": 34
        },
        "outputId": "5864d685-9878-45e4-e064-5282c529dd93"
      },
      "source": [
        "np.mean(cv['test_neg_log_loss']),np.mean(cv['test_accuracy'])"
      ],
      "execution_count": null,
      "outputs": [
        {
          "output_type": "execute_result",
          "data": {
            "text/plain": [
              "(-0.4393480656130415, 0.8657316503038803)"
            ]
          },
          "metadata": {
            "tags": []
          },
          "execution_count": 140
        }
      ]
    },
    {
      "cell_type": "code",
      "metadata": {
        "id": "GieHlfdHdXGS",
        "colab_type": "code",
        "colab": {
          "base_uri": "https://localhost:8080/",
          "height": 34
        },
        "outputId": "7074b99d-fe32-4672-c2bf-902113adc57d"
      },
      "source": [
        "np.mean(cv['test_neg_log_loss']),np.mean(cv['test_accuracy'])"
      ],
      "execution_count": null,
      "outputs": [
        {
          "output_type": "execute_result",
          "data": {
            "text/plain": [
              "(-0.43957816871701844, 0.8657316503038803)"
            ]
          },
          "metadata": {
            "tags": []
          },
          "execution_count": 252
        }
      ]
    },
    {
      "cell_type": "code",
      "metadata": {
        "id": "xR7xdwSKSk8O",
        "colab_type": "code",
        "colab": {
          "base_uri": "https://localhost:8080/",
          "height": 34
        },
        "outputId": "13233c31-0daa-4f7b-ba98-5ad783e2a3e1"
      },
      "source": [
        "np.mean(cv['test_neg_log_loss']),np.mean(cv['test_accuracy'])"
      ],
      "execution_count": null,
      "outputs": [
        {
          "output_type": "execute_result",
          "data": {
            "text/plain": [
              "(-0.47066979007043447, 0.852198279264346)"
            ]
          },
          "metadata": {
            "tags": []
          },
          "execution_count": 292
        }
      ]
    },
    {
      "cell_type": "code",
      "metadata": {
        "id": "oclc6FrjS6NM",
        "colab_type": "code",
        "colab": {}
      },
      "source": [
        "p=classifier.fit(X_train,y_train).predict_proba(X_test)"
      ],
      "execution_count": null,
      "outputs": []
    },
    {
      "cell_type": "code",
      "metadata": {
        "id": "p0DBYICGTpKc",
        "colab_type": "code",
        "colab": {
          "base_uri": "https://localhost:8080/",
          "height": 34
        },
        "outputId": "fe0b0c59-d9a0-421d-a3c0-d55c3eaf95a6"
      },
      "source": [
        "log_loss(y_test,p)"
      ],
      "execution_count": null,
      "outputs": [
        {
          "output_type": "execute_result",
          "data": {
            "text/plain": [
              "0.43935615769734127"
            ]
          },
          "metadata": {
            "tags": []
          },
          "execution_count": 142
        }
      ]
    },
    {
      "cell_type": "code",
      "metadata": {
        "id": "47pow3HQqFkE",
        "colab_type": "code",
        "colab": {}
      },
      "source": [
        "pred= model.predict_proba(X_test)"
      ],
      "execution_count": null,
      "outputs": []
    },
    {
      "cell_type": "code",
      "metadata": {
        "id": "EMrNLjJ1qeh-",
        "colab_type": "code",
        "colab": {}
      },
      "source": [
        "pred"
      ],
      "execution_count": null,
      "outputs": []
    },
    {
      "cell_type": "markdown",
      "metadata": {
        "id": "IJHoLfzLxtsE",
        "colab_type": "text"
      },
      "source": [
        "#test part"
      ]
    },
    {
      "cell_type": "code",
      "metadata": {
        "id": "UwWv-o5PEI7x",
        "colab_type": "code",
        "colab": {}
      },
      "source": [
        "corpus  = []\n",
        "pstem = PorterStemmer()\n",
        "for i in range(test['text'].shape[0]):\n",
        "    #Remove unwanted words\n",
        "    tweet = re.sub(\"[^a-zA-Z]\", ' ', test['text'][i])\n",
        "    #Transform words to lowercase\n",
        "    tweet = tweet.lower()\n",
        "    tweet = tweet.split()\n",
        "    #Remove stopwords then Stemming it\n",
        "    tweet = [pstem.stem(word) for word in tweet if not word in set(stopwords.words('english'))]\n",
        "    tweet = ' '.join(tweet)\n",
        "    #Append cleaned tweet to corpus\n",
        "    corpus.append(tweet)"
      ],
      "execution_count": null,
      "outputs": []
    },
    {
      "cell_type": "code",
      "metadata": {
        "id": "yQ9mhPj8EPz3",
        "colab_type": "code",
        "colab": {}
      },
      "source": [
        "test['clean']=corpus"
      ],
      "execution_count": null,
      "outputs": []
    },
    {
      "cell_type": "code",
      "metadata": {
        "id": "DX9nQ7zssIPr",
        "colab_type": "code",
        "colab": {
          "base_uri": "https://localhost:8080/",
          "height": 204
        },
        "outputId": "a4dbdcfc-1139-4681-f784-e67f9c94eea1"
      },
      "source": [
        "test.head(5)"
      ],
      "execution_count": null,
      "outputs": [
        {
          "output_type": "execute_result",
          "data": {
            "text/html": [
              "<div>\n",
              "<style scoped>\n",
              "    .dataframe tbody tr th:only-of-type {\n",
              "        vertical-align: middle;\n",
              "    }\n",
              "\n",
              "    .dataframe tbody tr th {\n",
              "        vertical-align: top;\n",
              "    }\n",
              "\n",
              "    .dataframe thead th {\n",
              "        text-align: right;\n",
              "    }\n",
              "</style>\n",
              "<table border=\"1\" class=\"dataframe\">\n",
              "  <thead>\n",
              "    <tr style=\"text-align: right;\">\n",
              "      <th></th>\n",
              "      <th>ID</th>\n",
              "      <th>text</th>\n",
              "      <th>clean</th>\n",
              "    </tr>\n",
              "  </thead>\n",
              "  <tbody>\n",
              "    <tr>\n",
              "      <th>0</th>\n",
              "      <td>02V56KMO</td>\n",
              "      <td>How to overcome bad feelings and emotions</td>\n",
              "      <td>overcom bad feel emot</td>\n",
              "    </tr>\n",
              "    <tr>\n",
              "      <th>1</th>\n",
              "      <td>03BMGTOK</td>\n",
              "      <td>I feel like giving up in life</td>\n",
              "      <td>feel like give life</td>\n",
              "    </tr>\n",
              "    <tr>\n",
              "      <th>2</th>\n",
              "      <td>03LZVFM6</td>\n",
              "      <td>I was so depressed feel like got no strength t...</td>\n",
              "      <td>depress feel like got strength continu</td>\n",
              "    </tr>\n",
              "    <tr>\n",
              "      <th>3</th>\n",
              "      <td>0EPULUM5</td>\n",
              "      <td>I feel so low especially since I had no one to...</td>\n",
              "      <td>feel low especi sinc one talk</td>\n",
              "    </tr>\n",
              "    <tr>\n",
              "      <th>4</th>\n",
              "      <td>0GM4C5GD</td>\n",
              "      <td>can i be successful when I am a drug addict?</td>\n",
              "      <td>success drug addict</td>\n",
              "    </tr>\n",
              "  </tbody>\n",
              "</table>\n",
              "</div>"
            ],
            "text/plain": [
              "         ID  ...                                   clean\n",
              "0  02V56KMO  ...                   overcom bad feel emot\n",
              "1  03BMGTOK  ...                     feel like give life\n",
              "2  03LZVFM6  ...  depress feel like got strength continu\n",
              "3  0EPULUM5  ...           feel low especi sinc one talk\n",
              "4  0GM4C5GD  ...                     success drug addict\n",
              "\n",
              "[5 rows x 3 columns]"
            ]
          },
          "metadata": {
            "tags": []
          },
          "execution_count": 34
        }
      ]
    },
    {
      "cell_type": "code",
      "metadata": {
        "id": "zi0EVtYgqQPW",
        "colab_type": "code",
        "colab": {}
      },
      "source": [
        "features = tfidf.transform(test.clean).toarray()"
      ],
      "execution_count": null,
      "outputs": []
    },
    {
      "cell_type": "code",
      "metadata": {
        "id": "WV6khqohyyRU",
        "colab_type": "code",
        "colab": {}
      },
      "source": [
        "#features[0]"
      ],
      "execution_count": null,
      "outputs": []
    },
    {
      "cell_type": "code",
      "metadata": {
        "id": "DZP1P1cAyMkx",
        "colab_type": "code",
        "colab": {}
      },
      "source": [
        "preds=classifier.predict_proba(features)"
      ],
      "execution_count": null,
      "outputs": []
    },
    {
      "cell_type": "code",
      "metadata": {
        "id": "llOkx5NZ0Enz",
        "colab_type": "code",
        "colab": {
          "base_uri": "https://localhost:8080/",
          "height": 34
        },
        "outputId": "a4eaa338-3efe-4eb7-ba0e-074418e29b54"
      },
      "source": [
        "preds.shape"
      ],
      "execution_count": null,
      "outputs": [
        {
          "output_type": "execute_result",
          "data": {
            "text/plain": [
              "(309, 4)"
            ]
          },
          "metadata": {
            "tags": []
          },
          "execution_count": 152
        }
      ]
    },
    {
      "cell_type": "code",
      "metadata": {
        "id": "tr1S-XSguOhG",
        "colab_type": "code",
        "colab": {}
      },
      "source": [
        "y=classifier.predict(features)\n",
        "y"
      ],
      "execution_count": null,
      "outputs": []
    },
    {
      "cell_type": "markdown",
      "metadata": {
        "id": "iZSwP7Fh0dr4",
        "colab_type": "text"
      },
      "source": [
        "#submission"
      ]
    },
    {
      "cell_type": "code",
      "metadata": {
        "id": "fYCAEWhr0gBc",
        "colab_type": "code",
        "colab": {}
      },
      "source": [
        "sub=pd.read_csv('SampleSubmission.csv')\n",
        "sub['Depression']=preds[:,0]\n",
        "sub['Alcohol']=preds[:,3]\n",
        "sub['Suicide']=preds[:,2]\n",
        "sub['Drugs']=preds[:,1]"
      ],
      "execution_count": null,
      "outputs": []
    },
    {
      "cell_type": "code",
      "metadata": {
        "id": "wW7v1WmQ09MP",
        "colab_type": "code",
        "colab": {}
      },
      "source": [
        "sub.to_csv('voting(sgd+onevs(svm)).csv',index=False)"
      ],
      "execution_count": null,
      "outputs": []
    },
    {
      "cell_type": "code",
      "metadata": {
        "id": "yL7cnLMZ1Iiz",
        "colab_type": "code",
        "colab": {}
      },
      "source": [
        "sub=pd.read_csv('mlp(svd).csv')"
      ],
      "execution_count": null,
      "outputs": []
    },
    {
      "cell_type": "code",
      "metadata": {
        "id": "nY1srbrd9TOl",
        "colab_type": "code",
        "colab": {
          "base_uri": "https://localhost:8080/",
          "height": 225
        },
        "outputId": "0be06d75-8bcf-4337-f716-fc10f71cfbd0"
      },
      "source": [
        "sub.head(6)"
      ],
      "execution_count": null,
      "outputs": [
        {
          "output_type": "execute_result",
          "data": {
            "text/html": [
              "<div>\n",
              "<style scoped>\n",
              "    .dataframe tbody tr th:only-of-type {\n",
              "        vertical-align: middle;\n",
              "    }\n",
              "\n",
              "    .dataframe tbody tr th {\n",
              "        vertical-align: top;\n",
              "    }\n",
              "\n",
              "    .dataframe thead th {\n",
              "        text-align: right;\n",
              "    }\n",
              "</style>\n",
              "<table border=\"1\" class=\"dataframe\">\n",
              "  <thead>\n",
              "    <tr style=\"text-align: right;\">\n",
              "      <th></th>\n",
              "      <th>ID</th>\n",
              "      <th>Depression</th>\n",
              "      <th>Alcohol</th>\n",
              "      <th>Suicide</th>\n",
              "      <th>Drugs</th>\n",
              "    </tr>\n",
              "  </thead>\n",
              "  <tbody>\n",
              "    <tr>\n",
              "      <th>0</th>\n",
              "      <td>02V56KMO</td>\n",
              "      <td>0.941864</td>\n",
              "      <td>0.015311</td>\n",
              "      <td>0.037844</td>\n",
              "      <td>0.004980</td>\n",
              "    </tr>\n",
              "    <tr>\n",
              "      <th>1</th>\n",
              "      <td>03BMGTOK</td>\n",
              "      <td>0.942248</td>\n",
              "      <td>0.001265</td>\n",
              "      <td>0.048400</td>\n",
              "      <td>0.008087</td>\n",
              "    </tr>\n",
              "    <tr>\n",
              "      <th>2</th>\n",
              "      <td>03LZVFM6</td>\n",
              "      <td>0.998810</td>\n",
              "      <td>0.000047</td>\n",
              "      <td>0.000309</td>\n",
              "      <td>0.000834</td>\n",
              "    </tr>\n",
              "    <tr>\n",
              "      <th>3</th>\n",
              "      <td>0EPULUM5</td>\n",
              "      <td>0.972658</td>\n",
              "      <td>0.001067</td>\n",
              "      <td>0.020393</td>\n",
              "      <td>0.005882</td>\n",
              "    </tr>\n",
              "    <tr>\n",
              "      <th>4</th>\n",
              "      <td>0GM4C5GD</td>\n",
              "      <td>0.215679</td>\n",
              "      <td>0.486409</td>\n",
              "      <td>0.131810</td>\n",
              "      <td>0.166102</td>\n",
              "    </tr>\n",
              "    <tr>\n",
              "      <th>5</th>\n",
              "      <td>0IYM8BYT</td>\n",
              "      <td>0.673317</td>\n",
              "      <td>0.075264</td>\n",
              "      <td>0.150353</td>\n",
              "      <td>0.101066</td>\n",
              "    </tr>\n",
              "  </tbody>\n",
              "</table>\n",
              "</div>"
            ],
            "text/plain": [
              "         ID  Depression   Alcohol   Suicide     Drugs\n",
              "0  02V56KMO    0.941864  0.015311  0.037844  0.004980\n",
              "1  03BMGTOK    0.942248  0.001265  0.048400  0.008087\n",
              "2  03LZVFM6    0.998810  0.000047  0.000309  0.000834\n",
              "3  0EPULUM5    0.972658  0.001067  0.020393  0.005882\n",
              "4  0GM4C5GD    0.215679  0.486409  0.131810  0.166102\n",
              "5  0IYM8BYT    0.673317  0.075264  0.150353  0.101066"
            ]
          },
          "metadata": {
            "tags": []
          },
          "execution_count": 137
        }
      ]
    },
    {
      "cell_type": "code",
      "metadata": {
        "id": "erv_gkU5PRcL",
        "colab_type": "code",
        "colab": {
          "base_uri": "https://localhost:8080/",
          "height": 34
        },
        "outputId": "ff7a00ed-aa79-483f-a7d8-8c819ae439b5"
      },
      "source": [
        "log_loss(y,preds)"
      ],
      "execution_count": null,
      "outputs": [
        {
          "output_type": "execute_result",
          "data": {
            "text/plain": [
              "0.20991676204358647"
            ]
          },
          "metadata": {
            "tags": []
          },
          "execution_count": 213
        }
      ]
    },
    {
      "cell_type": "code",
      "metadata": {
        "id": "HojDWFVULxMx",
        "colab_type": "code",
        "colab": {
          "base_uri": "https://localhost:8080/",
          "height": 34
        },
        "outputId": "78ae9f03-0884-412e-a123-52f654b0d939"
      },
      "source": [
        "log_loss(y,preds)"
      ],
      "execution_count": null,
      "outputs": [
        {
          "output_type": "execute_result",
          "data": {
            "text/plain": [
              "0.21044966109180543"
            ]
          },
          "metadata": {
            "tags": []
          },
          "execution_count": 279
        }
      ]
    },
    {
      "cell_type": "markdown",
      "metadata": {
        "id": "kaQgK1kNnmdG",
        "colab_type": "text"
      },
      "source": [
        "#Using SVD algorithm for feature selection(Optional)"
      ]
    },
    {
      "cell_type": "code",
      "metadata": {
        "id": "re81mWFyRP5W",
        "colab_type": "code",
        "colab": {}
      },
      "source": [
        "tfidf=TfidfVectorizer(sublinear_tf=True, min_df=3, norm='l2', encoding='latin-1', ngram_range=(1,2), stop_words='english')\n",
        "bag_of_words = tfidf.fit_transform(df['clean'])\n",
        "svd = TruncatedSVD(n_components=90, n_iter=20, random_state=12)\n",
        "features1 = svd.fit_transform(bag_of_words)"
      ],
      "execution_count": null,
      "outputs": []
    },
    {
      "cell_type": "code",
      "metadata": {
        "id": "pj1wqM4mRvty",
        "colab_type": "code",
        "colab": {}
      },
      "source": [
        "len(count_vectorizer.get_feature_names())"
      ],
      "execution_count": null,
      "outputs": []
    },
    {
      "cell_type": "code",
      "metadata": {
        "id": "bG2JbKXSTQC6",
        "colab_type": "code",
        "colab": {
          "base_uri": "https://localhost:8080/",
          "height": 218
        },
        "outputId": "0a9341c8-1dd0-4e3d-82c1-1411ea5805a7"
      },
      "source": [
        "features1[615]"
      ],
      "execution_count": null,
      "outputs": [
        {
          "output_type": "execute_result",
          "data": {
            "text/plain": [
              "array([ 0.36673633, -0.08381369, -0.14663739,  0.37907819,  0.06917611,\n",
              "        0.01902551,  0.13558061, -0.00312179, -0.03101095, -0.07344408,\n",
              "       -0.11287442,  0.01330385, -0.00737089, -0.02338445, -0.03777179,\n",
              "        0.09494591, -0.0333068 , -0.03967273,  0.07602552, -0.02873972,\n",
              "       -0.0096848 ,  0.00890987, -0.03254398,  0.03217212, -0.01745985,\n",
              "       -0.01878358, -0.00674686, -0.05841956,  0.02258721,  0.00398474,\n",
              "        0.01708691, -0.00549533,  0.02979749, -0.00811381, -0.01507536,\n",
              "       -0.00462509,  0.00592383, -0.03370244, -0.01825037, -0.01984827,\n",
              "        0.00759637,  0.00205128, -0.00316088,  0.008805  ,  0.00710803,\n",
              "        0.0160035 ,  0.01886706, -0.02334604, -0.00256311, -0.01180983,\n",
              "       -0.01227666, -0.00085286, -0.00162957,  0.02186215, -0.03879141,\n",
              "       -0.02195763,  0.01628062, -0.09939303,  0.0441587 ,  0.09131397])"
            ]
          },
          "metadata": {
            "tags": []
          },
          "execution_count": 300
        }
      ]
    },
    {
      "cell_type": "code",
      "metadata": {
        "id": "_Wqs3gqBS09L",
        "colab_type": "code",
        "colab": {}
      },
      "source": [
        "X_train, X_test, y_train, y_test, indices_train, indices_test = train_test_split(features1, labels, df.index, test_size=0.25, random_state=42)"
      ],
      "execution_count": null,
      "outputs": []
    },
    {
      "cell_type": "code",
      "metadata": {
        "id": "0eWzc9mQ6Yc_",
        "colab_type": "code",
        "colab": {}
      },
      "source": [
        "#clf0 = OneVsRestClassifier(LogisticRegression(C=7,max_iter=50))\n",
        "clf1=OneVsRestClassifier(svm.SVC(C=1,probability=True,kernel='linear'))\n",
        "clf2 = SGDClassifier(loss='log',alpha= 0.001, max_iter= 1000, penalty='l1')\n",
        "#clf3 = svm.SVC(C=1,kernel= 'linear',probability=True)\n",
        "\n",
        "model = VotingClassifier(estimators=[('dt', clf1), ('knn', clf2)],voting='soft')\n",
        "params = {'voting': ['soft']}\n",
        "\n",
        "grid_clf_acc = GridSearchCV(estimator=model, param_grid=params, cv=5,scoring = 'neg_log_loss')\n",
        "grid_clf_acc = grid_clf_acc.fit(features1, labels)"
      ],
      "execution_count": null,
      "outputs": []
    },
    {
      "cell_type": "code",
      "metadata": {
        "id": "dj5bbA7ET3lo",
        "colab_type": "code",
        "colab": {
          "base_uri": "https://localhost:8080/",
          "height": 34
        },
        "outputId": "ee86e88b-fd35-4d4a-9704-8a8ad2902934"
      },
      "source": [
        "#classifier=XGBClassifier(colsample_bytree= 0.9, max_depth= 6,n_estimators= 80, subsample= 0.9)\n",
        "#classifier=OneVsRestClassifier(svm.SVC(C=1,probability=True,kernel='linear'))\n",
        "#classifier=OneVsRestClassifier(LogisticRegression(C=10,max_iter=8))\n",
        "#classifier=MLPClassifier(max_iter= 120)\n",
        "#classifier = model\n",
        "#classifier=lgb.LGBMClassifier(learning_rate= 0.1, n_estimators= 70)\n",
        "#classifier = svm.SVC(C=1,kernel= 'linear',probability=True)\n",
        "\n",
        "classifier=SGDClassifier(loss='log',alpha= 0.001, max_iter= 1000, penalty='l1')\n",
        "#classifier=RandomForestClassifier(max_depth= 10,min_samples_leaf= 2,min_samples_split= 7,n_estimators= 80)\n",
        "#classifier=LogisticRegression(C=7,max_iter=70)\n",
        "cv = cross_validate(estimator=classifier, X=features1, y=labels,scoring = ('neg_log_loss','accuracy'), cv=2)\n",
        "np.mean(cv['test_neg_log_loss']),np.mean(cv['test_accuracy'])"
      ],
      "execution_count": null,
      "outputs": [
        {
          "output_type": "execute_result",
          "data": {
            "text/plain": [
              "(-0.47592248076680194, 0.849025974025974)"
            ]
          },
          "metadata": {
            "tags": []
          },
          "execution_count": 321
        }
      ]
    },
    {
      "cell_type": "code",
      "metadata": {
        "id": "4TVT000yoKxe",
        "colab_type": "code",
        "colab": {}
      },
      "source": [
        "classifier.fit(features1,labels)"
      ],
      "execution_count": null,
      "outputs": []
    },
    {
      "cell_type": "code",
      "metadata": {
        "id": "45g3pVqbWScp",
        "colab_type": "code",
        "colab": {}
      },
      "source": [
        "#features = tfidf.transform(test.clean).toarray()\n",
        "bag_of_words = tfidf.transform(test['clean'])\n",
        "features1 = svd.transform(bag_of_words)"
      ],
      "execution_count": null,
      "outputs": []
    },
    {
      "cell_type": "code",
      "metadata": {
        "id": "43iMQBC2NsyP",
        "colab_type": "code",
        "colab": {}
      },
      "source": [
        "features1[0]"
      ],
      "execution_count": null,
      "outputs": []
    },
    {
      "cell_type": "code",
      "metadata": {
        "id": "69Dwi1H2AQ0H",
        "colab_type": "code",
        "colab": {
          "base_uri": "https://localhost:8080/",
          "height": 370
        },
        "outputId": "9588d94e-0374-478e-f6f5-8a3d91a85047"
      },
      "source": [
        "terms = tfidf.get_feature_names()\n",
        "# sum tfidf frequency of each term through documents\n",
        "sums = features = tfidf.transform(test.clean).sum(axis=0)\n",
        "# connecting term to its sums frequency\n",
        "data = []\n",
        "for col, term in enumerate(terms):\n",
        "    data.append( (term, sums[0,col] ))\n",
        "\n",
        "ranking = pd.DataFrame(data, columns=['term','rank'])\n",
        "print(ranking.sort_values('rank', ascending=True).head(20))"
      ],
      "execution_count": null,
      "outputs": [
        {
          "output_type": "stream",
          "text": [
            "           term  rank\n",
            "0       abandon   0.0\n",
            "143        noth   0.0\n",
            "141      nobodi   0.0\n",
            "140     neglect   0.0\n",
            "130        main   0.0\n",
            "129        lowi   0.0\n",
            "123        look   0.0\n",
            "118         led   0.0\n",
            "105  highschool   0.0\n",
            "99         heal   0.0\n",
            "144       occur   0.0\n",
            "98      headach   0.0\n",
            "89      guidanc   0.0\n",
            "85        given   0.0\n",
            "80       forgiv   0.0\n",
            "79         fine   0.0\n",
            "71         fall   0.0\n",
            "68       excess   0.0\n",
            "66           ex   0.0\n",
            "58         easi   0.0\n"
          ],
          "name": "stdout"
        }
      ]
    }
  ]
}